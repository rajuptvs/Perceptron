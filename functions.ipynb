{
 "cells": [
  {
   "cell_type": "code",
   "execution_count": 2,
   "metadata": {},
   "outputs": [],
   "source": [
    "import numpy as np\n",
    "import matplotlib.pyplot as plt\n"
   ]
  },
  {
   "cell_type": "code",
   "execution_count": 3,
   "metadata": {},
   "outputs": [],
   "source": [
    "def perceptron(points, dim, max_it=100, use_adaline=False, \n",
    "               eta = 1, randomize=False, print_out = True):\n",
    "    w = np.zeros(dim+1)\n",
    "    xs, ys = points[:,:dim+1], points[:,dim+1]\n",
    "    num_points = points.shape[0]\n",
    "    for it in range(max_it):\n",
    "        correctly_predicted_ids=  set()\n",
    "        idxs = np.arange(num_points)\n",
    "        if randomize:\n",
    "            idxs = np.random.choice(np.arange(num_points), num_points, replace=False)\n",
    "        for idx in idxs:\n",
    "            x, y = xs[idx], ys[idx]\n",
    "            st = np.dot(w.T, x)\n",
    "            prod = st*y #np.dot(w.T, x)*y\n",
    "            if prod < -100: #avoid out of bound error\n",
    "                st = -100\n",
    "            threshold = 1 if use_adaline else 0\n",
    "            st = st if use_adaline else 0\n",
    "            if prod <= threshold:\n",
    "                w = w + eta *(y-st)*x\n",
    "                break #PLA picks one example at each iteration\n",
    "            else:\n",
    "                correctly_predicted_ids.add(idx)\n",
    "        if len(correctly_predicted_ids) == num_points:\n",
    "            break\n",
    "    \n",
    "    c = 0\n",
    "    for x, y in zip(xs, ys):\n",
    "        prod = np.dot(w.T, x)*y\n",
    "        if prod > 0:\n",
    "            c +=1\n",
    "    w = w/w[-1]\n",
    "    if print_out:\n",
    "        print('final correctness: ', c, '. Total iteration: ', it)\n",
    "        print('final normalized w:', w)\n",
    "    return w, it\n",
    "    \n",
    "\n",
    "\n",
    "def generate_random_numbers(N, dim, num_grid_points, lb, ub):\n",
    "    zero_to_one_points = generate_random_numbers01(N, dim, num_grid_points)\n",
    "    res = lb + (ub - lb)*zero_to_one_points\n",
    "    return res\n",
    "\n",
    "def generate_random_coeffs(dim):\n",
    "    rn = generate_random_numbers(1, dim, 1000, -10, 10)\n",
    "    return rn\n",
    "\n",
    "def true_f(x, coeffs):\n",
    "    return coeffs.flatten()[0] + np.dot(coeffs.flatten()[1:], x.flatten())\n",
    "\n",
    "def generate_two_classes(N, dim, true_func, rn_func):\n",
    "    cls1, cls2 = [], []\n",
    "    while True:\n",
    "        rn = rn_func(1, dim).flatten()\n",
    "        if true_func(rn) > 0 and len(cls1) < N:\n",
    "            cls1.append(rn)\n",
    "        elif true_func(rn) < 0 and len(cls2) < N:\n",
    "            cls2.append(rn)\n",
    "        if len(cls1) == N and len(cls2) == N:\n",
    "            break\n",
    "    return np.asarray(cls1), np.asarray(cls2)    \n",
    "\n",
    "def generate_df(N, dim,true_func, rn_func):\n",
    "    cls1, cls2 = generate_two_classes(N/2, dim, true_func, rn_func)\n",
    "    cols = ['x' + str(i) for i in range(1, dim+1)]\n",
    "    df1 = pd.DataFrame(cls1, columns=cols)\n",
    "    df1['y'] = 1\n",
    "    df2 = pd.DataFrame(cls2, columns=cols)\n",
    "    df2['y'] = -1\n",
    "    df = pd.concat([df1, df2])\n",
    "    df['x0'] = 1\n",
    "    df = df[['x0'] + cols + ['y']]\n",
    "    return df\n",
    "\n",
    "def plot_data(x1, df, norm_coeffs, norm_g, lb, ub):\n",
    "        figsize = plt.figaspect(1)\n",
    "        f, ax = plt.subplots(1, 1, figsize=figsize)\n",
    "        cls1_df = df.loc[df['y']==1]\n",
    "        cls2_df = df.loc[df['y']==-1]\n",
    "        line = ax.plot(x1, -(norm_coeffs[0]+norm_coeffs[1]*x1), label='True Function')\n",
    "        pluses = ax.scatter(cls1_df[['x1']].values, cls1_df[['x2']].values, marker='+', c= 'r', label='+1 labels')\n",
    "        minuses = ax.scatter(cls2_df[['x1']].values, cls2_df[['x2']].values, marker=r'$-$', c= 'b', label='-1 labels')\n",
    "        if norm_g is not None:\n",
    "            hypothesis = ax.plot(x1, -(norm_g[0]+norm_g[1]*x1), c = 'r', label='Final Hypothesis')\n",
    "\n",
    "        ax.set_ylabel(r\"$x_2$\", fontsize=11)\n",
    "        ax.set_xlabel(r\"$x_1$\", fontsize=11)\n",
    "        ax.set_title('Data set size = %s'%N, fontsize=9)\n",
    "        ax.axis('tight')\n",
    "        legend_x = 2.0\n",
    "        legend_y = 0.5\n",
    "        ax.legend(['True Function', 'Final Hypothesis', \n",
    "                   '+1 labels', '-1 labels', ], \n",
    "                  loc='center right', bbox_to_anchor=(legend_x, legend_y))\n",
    "        #ax.legend(handles=[pluses, minuses], fontsize=9)\n",
    "        ax.set_ylim(bottom=lb, top=ub)\n",
    "        plt.show()\n",
    "        \n",
    "def run_perceptron_experiment(N, dim, lb, ub, num_grid_points, coeff_lb, coeff_ub, \n",
    "                              eta, maxit, use_adaline=False, randomize=False,\n",
    "                              show_plot=True, test_N = 10000):\n",
    "    \n",
    "    rns = generate_random_numbers(N, dim, num_grid_points, lb, ub)\n",
    "    rn_func = partial(generate_random_numbers, num_grid_points = num_grid_points, lb = lb, ub = ub)\n",
    "    coeffs = generate_random_numbers(1, dim+1, num_grid_points, coeff_lb, coeff_ub)\n",
    "    norm_coeffs = coeffs.flatten()/coeffs.flatten()[-1]\n",
    "    true_func = partial(true_f, coeffs = norm_coeffs)\n",
    "    \n",
    "    df = generate_df(N, dim, true_func, rn_func)\n",
    "    test_df = generate_df(test_N, dim, true_func, rn_func)\n",
    "    \n",
    "    x1 = np.arange(lb, ub, 0.01)\n",
    "    norm_g, num_its = perceptron(df.values, dim, maxit, use_adaline, \n",
    "                                 eta, randomize, show_plot)\n",
    "    \n",
    "    if show_plot:\n",
    "        print('True coeffs: ', norm_coeffs)\n",
    "        plot_data(x1, df, norm_coeffs, norm_g, lb, ub)\n",
    "    return num_its, norm_g, test_df"
   ]
  },
  {
   "cell_type": "code",
   "execution_count": 1,
   "metadata": {},
   "outputs": [],
   "source": [
    "import pandas as pd\n",
    "import numpy as np\n",
    "import sklearn\n",
    "import matplotlib.pyplot as plt\n",
    "from scipy.optimize import minimize\n",
    "import math\n",
    "from sklearn.preprocessing import normalize\n",
    "from functools import partial\n"
   ]
  },
  {
   "cell_type": "code",
   "execution_count": 4,
   "metadata": {},
   "outputs": [],
   "source": [
    "\n",
    "def generate_random_numbers01(N, dim, num_grid_points):\n",
    "    random_ints = np.random.randint(num_grid_points, size=(N, dim))\n",
    "    init_lb = 0\n",
    "    return (random_ints - init_lb)/(num_grid_points - 1 - init_lb)"
   ]
  },
  {
   "cell_type": "code",
   "execution_count": 16,
   "metadata": {},
   "outputs": [
    {
     "name": "stdout",
     "output_type": "stream",
     "text": [
      "final correctness:  20 . Total iteration:  19\n",
      "final normalized w: [-0.0111947  -0.76852716  1.        ]\n",
      "True coeffs:  [ 1.59877085 -0.74890255  1.        ]\n"
     ]
    },
    {
     "data": {
      "image/png": "[encoded data removed]",
      "text/plain": [
       "<Figure size 288x288 with 1 Axes>"
      ]
     },
     "metadata": {
      "needs_background": "light"
     },
     "output_type": "display_data"
    }
   ],
   "source": [
    "#perceptron(df.values, 2)\n",
    "\n",
    "lb, ub = -100, 100\n",
    "N, dim = 20, 2 \n",
    "num_grid_points = 2000\n",
    "coeff_lb, coeff_ub = -10, 10\n",
    "eta = 1\n",
    "maxit = 100\n",
    "use_adaline, randomize = False, False\n",
    "_, _, _ = run_perceptron_experiment(N, dim, lb, ub, num_grid_points,\n",
    "                             coeff_lb, coeff_ub, eta, maxit, use_adaline, randomize)"
   ]
  }
 ],
 "metadata": {
  "kernelspec": {
   "display_name": "Python 3.9.12 ('base')",
   "language": "python",
   "name": "python3"
  },
  "language_info": {
   "codemirror_mode": {
    "name": "ipython",
    "version": 3
   },
   "file_extension": ".py",
   "mimetype": "text/x-python",
   "name": "python",
   "nbconvert_exporter": "python",
   "pygments_lexer": "ipython3",
   "version": "3.9.12"
  },
  "orig_nbformat": 4,
  "vscode": {
   "interpreter": {
    "hash": "0fec98772b97106c1311a809fcb64aa6adfee6fc156b34000aa6fa4920030eee"
   }
  }
 },
 "nbformat": 4,
 "nbformat_minor": 2
}
